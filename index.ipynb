{
 "cells": [
  {
   "cell_type": "markdown",
   "metadata": {},
   "source": [
    "# Researching HTML Elements\n",
    "\n",
    "## Introduction\n",
    "When writing HTML you might encounter tags that are new to you. When searching for technical help, you have to be careful about which sources you trust. This is a skill you will build over time but you'll get an overview of some good practices here.\n",
    "\n",
    "## Objectives\n",
    "You will be able to:\n",
    "* Use search engines as resources to find information\n",
    "* Compare multiple resources to find the best source\n",
    "\n",
    "## Use Search Engines as Resources to Find Information\n",
    "\n",
    "Let's say in your research, you come across an unfamiliar HTML element like\n",
    "`<samp>`. You can google `samp html element,` and you will find an endless list\n",
    "of results to choose from. Sometimes resources can be outdated, biased, or\n",
    "inaccurate. It's important to filter through the results to find the best one.\n",
    "\n",
    "<img src=\"https://curriculum-content.s3.amazonaws.com/web-development/html-element-search.png\" width=\"850\">\n",
    "\n",
    "\n",
    "## Observe And Identify Relevant Information\n",
    "\n",
    "Your instinct might be to open the first result. You should be pickier.\n",
    "Sometimes the result has \"gamed\" the search engine and unfairly influenced the ranking.\n",
    "It's recommended that you open the top **five** results and review them critically.\n",
    "\n",
    "It's also advisable to trust sites that are affiliated with building or\n",
    "defining the technologies more than blogs or other resources. In the HTML\n",
    "world, the Mozilla Developer Network (MDN) is an extremely trustworthy site.\n",
    "In fact, it's likely the best HTML and CSS documentation source on the\n",
    "internet.\n",
    "\n",
    "<img src=\"https://curriculum-content.s3.amazonaws.com/web-development/samp-mdn-page.png\" width=\"850\">\n",
    "\n",
    "## Compare Multiple Resources To Find The Best Source\n",
    "\n",
    "If you go back to the search results, you'll see that the first result, in this\n",
    "case, is `W3schools`. A site, like W3schools, for example, can be used as an\n",
    "additional resource for garnering understanding. It even includes interactive\n",
    "examples, creating a sandbox environment for experimentation.\n",
    "\n",
    "In this case, between MDN and W3schools, you should get a good sense of how to\n",
    "use the `<samp>` element.\n",
    "\n",
    "## Summary\n",
    "\n",
    "The web is a constantly evolving entity. As we build more ambitious products or\n",
    "learn from our collective needs and mistakes, the industry will continually\n",
    "update the HTML specifications.\n",
    "\n",
    "Researching referencing documentation\n",
    "can be scary at first, but it's a primary skill for data scientists. Don't be afraid to\n",
    "practice technical searches. It's a _skill_ that you will get better at with practice.\n",
    "\n",
    "Most importantly, don't feel like _not knowing everything by heart_ means you can't\n",
    "be a data scientist. The greatest data scientists we know are constantly admitting what they\n",
    "don't know, finding the latest news, using the answer they found and moving on."
   ]
  }
 ],
 "metadata": {
  "kernelspec": {
   "display_name": "Python 3",
   "language": "python",
   "name": "python3"
  },
  "language_info": {
   "codemirror_mode": {
    "name": "ipython",
    "version": 3
   },
   "file_extension": ".py",
   "mimetype": "text/x-python",
   "name": "python",
   "nbconvert_exporter": "python",
   "pygments_lexer": "ipython3",
   "version": "3.6.9"
  }
 },
 "nbformat": 4,
 "nbformat_minor": 2
}
